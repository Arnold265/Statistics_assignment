{
 "cells": [
  {
   "cell_type": "markdown",
   "metadata": {},
   "source": [
    "# STATISTICS 1, 2, 3 & 4: All 4 is in one file"
   ]
  },
  {
   "cell_type": "code",
   "execution_count": 2,
   "metadata": {},
   "outputs": [],
   "source": [
    "# 2.1. Problem Statement: STATISTICS 1\n",
    "\n",
    "# 1. You survey households in your area to find the average rent they are paying.\n",
    "# Find the standard deviation from the following data:\n",
    "# \n",
    "# $1550, $1700, $900, $850, $1000, $950."
   ]
  },
  {
   "cell_type": "code",
   "execution_count": 3,
   "metadata": {},
   "outputs": [],
   "source": [
    "rent=(1550,1700,900,850,1000,950)"
   ]
  },
  {
   "cell_type": "code",
   "execution_count": 6,
   "metadata": {},
   "outputs": [
    {
     "name": "stdout",
     "output_type": "stream",
     "text": [
      "Average rent is $  1158.33\n"
     ]
    }
   ],
   "source": [
    "average = sum(rent)/len(rent)\n",
    "print(\"Average rent is $ \", round(average,2))"
   ]
  },
  {
   "cell_type": "code",
   "execution_count": 5,
   "metadata": {},
   "outputs": [
    {
     "name": "stdout",
     "output_type": "stream",
     "text": [
      "1158.3333333333333\n"
     ]
    }
   ],
   "source": [
    "print(average)"
   ]
  },
  {
   "cell_type": "code",
   "execution_count": 7,
   "metadata": {},
   "outputs": [],
   "source": [
    "import numpy as np\n"
   ]
  },
  {
   "cell_type": "code",
   "execution_count": 17,
   "metadata": {},
   "outputs": [
    {
     "name": "stdout",
     "output_type": "stream",
     "text": [
      "Standard Deviation for the rent is: $ 367.99\n"
     ]
    }
   ],
   "source": [
    "SD = np.std([rent],ddof=1)\n",
    "print(\"Standard Deviation for the rent is: $\",round (SD,2))"
   ]
  },
  {
   "cell_type": "markdown",
   "metadata": {},
   "source": [
    "#  2. Find the variance for the following set of data representing trees in California (heights in feet):\n",
    "\n",
    "3, 21, 98, 203, 17, 9"
   ]
  },
  {
   "cell_type": "code",
   "execution_count": 18,
   "metadata": {},
   "outputs": [
    {
     "data": {
      "text/plain": [
       "(3, 21, 98, 203, 17, 9)"
      ]
     },
     "execution_count": 18,
     "metadata": {},
     "output_type": "execute_result"
    }
   ],
   "source": [
    "import numpy as np\n",
    "import pandas as pd\n",
    "\n",
    "tree_ht= (3,21,98,203,17,9)\n",
    "tree_ht"
   ]
  },
  {
   "cell_type": "code",
   "execution_count": 26,
   "metadata": {},
   "outputs": [
    {
     "name": "stdout",
     "output_type": "stream",
     "text": [
      "The variance is:   6219.9 ft-square\n"
     ]
    }
   ],
   "source": [
    "tree_ht_var=np.var(tree_ht,ddof=1) # ddof is for the complete population and not a sample of a population\n",
    "print(\"The variance is:  \", np.around(tree_ht_var,2),\"ft-square\")"
   ]
  },
  {
   "cell_type": "markdown",
   "metadata": {},
   "source": [
    "##  Question 3."
   ]
  },
  {
   "cell_type": "code",
   "execution_count": 27,
   "metadata": {},
   "outputs": [],
   "source": [
    "# In a class on 100 students, 80 students passed in all subjects, 10 failed in one subject, 7 failed in two subjects and \n",
    "# 3 failed in three subjects. Find the probability distribution of the variable for number of subjects a student \n",
    "# from the given class has failed in."
   ]
  },
  {
   "cell_type": "code",
   "execution_count": 2,
   "metadata": {},
   "outputs": [
    {
     "data": {
      "text/html": [
       "<div>\n",
       "<style scoped>\n",
       "    .dataframe tbody tr th:only-of-type {\n",
       "        vertical-align: middle;\n",
       "    }\n",
       "\n",
       "    .dataframe tbody tr th {\n",
       "        vertical-align: top;\n",
       "    }\n",
       "\n",
       "    .dataframe thead th {\n",
       "        text-align: right;\n",
       "    }\n",
       "</style>\n",
       "<table border=\"1\" class=\"dataframe\">\n",
       "  <thead>\n",
       "    <tr style=\"text-align: right;\">\n",
       "      <th></th>\n",
       "      <th>No. Failed Subjects(X)</th>\n",
       "      <th>P(X)</th>\n",
       "    </tr>\n",
       "  </thead>\n",
       "  <tbody>\n",
       "    <tr>\n",
       "      <th>0</th>\n",
       "      <td>X=0</td>\n",
       "      <td>0.80</td>\n",
       "    </tr>\n",
       "    <tr>\n",
       "      <th>1</th>\n",
       "      <td>X=1</td>\n",
       "      <td>0.10</td>\n",
       "    </tr>\n",
       "    <tr>\n",
       "      <th>2</th>\n",
       "      <td>X=2</td>\n",
       "      <td>0.07</td>\n",
       "    </tr>\n",
       "    <tr>\n",
       "      <th>3</th>\n",
       "      <td>X=3</td>\n",
       "      <td>0.03</td>\n",
       "    </tr>\n",
       "  </tbody>\n",
       "</table>\n",
       "</div>"
      ],
      "text/plain": [
       "  No. Failed Subjects(X)  P(X)\n",
       "0                    X=0  0.80\n",
       "1                    X=1  0.10\n",
       "2                    X=2  0.07\n",
       "3                    X=3  0.03"
      ]
     },
     "execution_count": 2,
     "metadata": {},
     "output_type": "execute_result"
    }
   ],
   "source": [
    "import numpy as np\n",
    "import pandas as pd\n",
    "import matplotlib.pyplot as plt\n",
    "from matplotlib.pyplot import hist\n",
    "\n",
    "prob_no_fail = 80/100\n",
    "prob_one_fail = 10/100\n",
    "prob_two_fail = 7/100\n",
    "prob_three_fail = 3/100\n",
    "\n",
    "prob_list = [prob_no_fail, prob_one_fail, prob_two_fail, prob_three_fail]\n",
    "\n",
    "fail_pdf = pd.DataFrame(data={'No. Failed Subjects(X)':['X=0', 'X=1', 'X=2', 'X=3'],'P(X)': prob_list})\n",
    "fail_pdf"
   ]
  },
  {
   "cell_type": "code",
   "execution_count": 3,
   "metadata": {},
   "outputs": [
    {
     "data": {
      "text/plain": [
       "True"
      ]
     },
     "execution_count": 3,
     "metadata": {},
     "output_type": "execute_result"
    }
   ],
   "source": [
    "# The sum of all probabilities(Cumulative Probability) should be equal to 1 in a probability distribution\n",
    "fail_pdf ['P(X)'].sum() == 1  "
   ]
  },
  {
   "cell_type": "markdown",
   "metadata": {},
   "source": [
    "# 2.2. Problem Statement: STATISTICS 2"
   ]
  },
  {
   "cell_type": "code",
   "execution_count": 9,
   "metadata": {},
   "outputs": [],
   "source": [
    "import math\n",
    "import statistics as st\n",
    "from functools import reduce"
   ]
  },
  {
   "cell_type": "markdown",
   "metadata": {},
   "source": [
    "# FORMULA TO CALCULATE BINOMIAL DISTRIBUTION IS :\n",
    "\n",
    "P (‘k’ successes in ‘n’ trials) = C(n,k)sk(1−s)(n−k) \n",
    "\n",
    "s = the probability of success and \n",
    "\n",
    "(1-s) = the probability of failure (or complement of the event)\n",
    "\n",
    "n = Total number of trials\n",
    "\n",
    "K = number of specific events we want to obtain\n",
    "\n",
    "Also nCr represents selection of r events from n, it can be written as: nCk = n!/k!(n−k)! "
   ]
  },
  {
   "cell_type": "markdown",
   "metadata": {},
   "source": [
    "# A test is conducted which is consisting of 20 MCQs (multiple choices questions) with every MCQ having its four options out of which only one is correct. Determine the probability that a person undertaking that test has answered exactly 5 questions wrong."
   ]
  },
  {
   "cell_type": "code",
   "execution_count": 11,
   "metadata": {},
   "outputs": [
    {
     "name": "stdout",
     "output_type": "stream",
     "text": [
      "PRoabailty to get 5 wrong is :  3.4264958230778575e-06\n"
     ]
    }
   ],
   "source": [
    "n = 20        # number of samples\n",
    "s = 5\n",
    "k = 15\n",
    "\n",
    "# Probability of success \n",
    "p = 1/4\n",
    "# Proability of Failure\n",
    "q = 1 - p\n",
    "\n",
    "# Percentage computation\n",
    "# 20!/15!(5!) * ((1/4) ** 15) * ((3/4) ** 5)\n",
    "\n",
    "array = [i for i in range(1,21)]\n",
    "n_fact = reduce(lambda x,y : x * y, array)\n",
    "pass_fact = reduce(lambda x,y : x * y, array[0:15])\n",
    "fail_fact = reduce(lambda x,y : x * y, array[0:5])\n",
    "\n",
    "# Probaility of 5 failures\n",
    "prob= (n_fact/(pass_fact*fail_fact)) * (p ** k ) * (q ** s)\n",
    "print (\"PRoabailty to get 5 wrong is : \", prob)"
   ]
  },
  {
   "cell_type": "markdown",
   "metadata": {},
   "source": [
    "# A die marked A to E is rolled 50 times. Find the probability of getting a “D” exactly 5 times.\n"
   ]
  },
  {
   "cell_type": "code",
   "execution_count": 22,
   "metadata": {},
   "outputs": [],
   "source": [
    "# Importing libraries\n",
    "from scipy.stats import binom"
   ]
  },
  {
   "cell_type": "code",
   "execution_count": 23,
   "metadata": {},
   "outputs": [
    {
     "name": "stdout",
     "output_type": "stream",
     "text": [
      "p:  0.2\n"
     ]
    }
   ],
   "source": [
    "\n",
    "# No. of Trails =  No. of times the die is rolled i.e. 50\n",
    "n=50\n",
    "\n",
    "# The die has to roll a “D” exactly 5 times\n",
    "success = 5\n",
    "\n",
    "# Probability of getting \"D\" when rolled once is =  1/5\n",
    "p = 1/5\n",
    "print(\"p: \", p)"
   ]
  },
  {
   "cell_type": "code",
   "execution_count": 24,
   "metadata": {},
   "outputs": [
    {
     "name": "stdout",
     "output_type": "stream",
     "text": [
      "The probability of getting a “D” exactly 5 times is : 0.0295312043\n"
     ]
    }
   ],
   "source": [
    "# PMF is the function that we can use to get the probability of exact values\n",
    "print(\"The probability of getting a “D” exactly 5 times is : {:0.10f}\".format(binom.pmf(success,n,p)))"
   ]
  },
  {
   "cell_type": "markdown",
   "metadata": {},
   "source": [
    "# Altrenatively "
   ]
  },
  {
   "cell_type": "code",
   "execution_count": 12,
   "metadata": {},
   "outputs": [
    {
     "name": "stdout",
     "output_type": "stream",
     "text": [
      "PRoabailty to get D 5 times is :  0.029531204310524296\n"
     ]
    }
   ],
   "source": [
    "n = 50\n",
    "#success count\n",
    "k = 5\n",
    "# Failure\n",
    "s = 50 -k    # 45\n",
    "\n",
    "# Probabilty of success \n",
    "p = 1/5    # As it is A to E, there are only 5 possibilties\n",
    "# Probiblity of failure\n",
    "q = 1 - p\n",
    "\n",
    "# Compute the probavilty\n",
    "prob = (math.factorial(n) / (math.factorial(k) * math.factorial(s))) * (p ** k) * (q ** s)\n",
    "print (\"PRoabailty to get D 5 times is : \", prob)"
   ]
  },
  {
   "cell_type": "markdown",
   "metadata": {},
   "source": [
    "# Two balls are drawn at random in succession without replacement from an urn containing 4 red balls and 6 black balls. Find the probabilities of all the possible outcomes.\n"
   ]
  },
  {
   "cell_type": "markdown",
   "metadata": {},
   "source": [
    "Total Number of balls : 10<br>\n",
    "Probabilty of two reds    : RR : P(R) * P(R) : (4/10) * (3/9) &emsp; : 2/15 &emsp; :This because without replacement<br>\n",
    "Probabilty of red & black : RB : P(R) * P(B) : (4/10) * (6/9) &emsp; : 4/15 &emsp; :This because without replacement<br>\n",
    "Probabilty of black & red : BR : P(B) * P(R) : (6/10) * (4/9) &emsp; : 4/15 &emsp; :This because without replacement<br>\n",
    "Probabilty of two blacks  : BB : P(B) * P(B) : (6/10) * (5/9) &emsp; : 1/3  &emsp;&nbsp;&nbsp; :This because without replacement<br>\n",
    "<br>\n",
    "<br>\n",
    "Probabilty of 2 Reds &emsp;  &emsp; &emsp;  &emsp;         : 2/15        : 2/15<br>\n",
    "Probabilty of 1 red and 1 black : 4/15 + 4/15 : 8/15<br>\n",
    "Probabilty of 3 blacs &emsp; &emsp; &emsp;  &emsp;         : 1/3         : 1/3\n"
   ]
  },
  {
   "cell_type": "code",
   "execution_count": 25,
   "metadata": {},
   "outputs": [],
   "source": [
    "# Importing libraries\n",
    "from scipy.stats import binom"
   ]
  },
  {
   "cell_type": "code",
   "execution_count": 26,
   "metadata": {},
   "outputs": [],
   "source": [
    "# Initializing values\n",
    "r = 4 # No. of red balls\n",
    "b = 6 # No. of black balls\n",
    "t = r + b # Total number of balls"
   ]
  },
  {
   "cell_type": "code",
   "execution_count": 27,
   "metadata": {},
   "outputs": [
    {
     "name": "stdout",
     "output_type": "stream",
     "text": [
      "Probability of (red, red):  0.13333333333333333\n",
      "Probability of (red,black):  0.26666666666666666\n",
      "Probability of (black, red):  0.26666666666666666\n",
      "Probability of (black, black):  0.3333333333333333\n"
     ]
    }
   ],
   "source": [
    "# There are only four possible combinations when the two balls are drawn at random: \n",
    "# (red, red),(red,black),(black, red), (black, black)\n",
    "\n",
    "# Probability of (red, red)\n",
    "prob_rr = ((r/t)*((r-1)/(t-1))) \n",
    "print(\"Probability of (red, red): \", prob_rr)\n",
    "\n",
    "# Probability of (red, black)\n",
    "prob_rb = ((r/t)*((b)/(t-1))) \n",
    "print(\"Probability of (red,black): \", prob_rb)\n",
    "\n",
    "# Probability of (black, red)\n",
    "prob_br = ((b/t)*((r)/(t-1))) \n",
    "print(\"Probability of (black, red): \", prob_br)\n",
    "\n",
    "# Probability of (black, black)\n",
    "prob_bb =  ((b/t)*((b-1)/(t-1)))\n",
    "print(\"Probability of (black, black): \", prob_bb)"
   ]
  },
  {
   "cell_type": "code",
   "execution_count": 28,
   "metadata": {},
   "outputs": [
    {
     "data": {
      "text/plain": [
       "1.0"
      ]
     },
     "execution_count": 28,
     "metadata": {},
     "output_type": "execute_result"
    }
   ],
   "source": [
    "# The probabilty of all possible outcomes\n",
    "prob_all = ((r/t)*((r-1)/(t-1)))  +  ((r/t)*((b)/(t-1)))  +  ((b/t)*((r)/(t-1)))   +  ((b/t)*((b-1)/(t-1)))\n",
    "# OR\n",
    "# prob_all = prob_rr + prob_rb + prob_br + prob_bb\n",
    "prob_all"
   ]
  },
  {
   "cell_type": "code",
   "execution_count": null,
   "metadata": {},
   "outputs": [],
   "source": []
  },
  {
   "cell_type": "code",
   "execution_count": null,
   "metadata": {},
   "outputs": [],
   "source": []
  },
  {
   "cell_type": "code",
   "execution_count": null,
   "metadata": {},
   "outputs": [],
   "source": []
  },
  {
   "cell_type": "markdown",
   "metadata": {},
   "source": [
    "# 2.3. Problem Statement: STATISTICS 3"
   ]
  },
  {
   "cell_type": "markdown",
   "metadata": {},
   "source": [
    "Blood glucose levels for obese patients have a mean of 100 with a standard deviation of 15. A researcher thinks that a diet high in raw cornstarch will have a positive effect on blood glucose levels. A sample of 36 patients who have tried the raw cornstarch diet have a mean glucose level of 108. Test the hypothesis that the raw cornstarch had an effect or not.\n"
   ]
  },
  {
   "cell_type": "markdown",
   "metadata": {},
   "source": [
    "Hypothesis: <br><br>\n",
    "H0 : 𝜇 = 100 <br>\n",
    "HA : 𝜇 > 100<br>\n",
    "<br><br>\n",
    "Population mean = 100 <br>\n",
    "Population Standard Deviation = 15<br>\n",
    "<br>\n",
    "Sample size = 36<br>\n",
    "mean = 108<br>\n",
    "<br>\n",
    "Use the Z statics as SD for population is given<br>\n",
    "z = (sample mean - population mean)/ (standard Deviation/square root of sample size)<br><br>\n",
    "Alpha = 0.05"
   ]
  },
  {
   "cell_type": "markdown",
   "metadata": {},
   "source": []
  },
  {
   "cell_type": "code",
   "execution_count": 15,
   "metadata": {},
   "outputs": [
    {
     "data": {
      "text/plain": [
       "3.2"
      ]
     },
     "execution_count": 15,
     "metadata": {},
     "output_type": "execute_result"
    }
   ],
   "source": [
    "Z_stat = (108-100)/(15/(36)**0.5); Z_stat"
   ]
  },
  {
   "cell_type": "markdown",
   "metadata": {},
   "source": [
    "P value from the Z table table : 0.9993\n",
    "Z-critical value = 1.645\n",
    "\n",
    "### CONCLUSION\n",
    "Clearly the Z computed value is greater than the Z-critical Value, indicating it is in the rejection area.<br>\n",
    "Also the p value is greater than the Alpha value.<br>\n",
    "As a result the null hypothesis will be rejected."
   ]
  },
  {
   "cell_type": "markdown",
   "metadata": {},
   "source": [
    "### In one state, 52% of the voters are Republicans, and 48% are Democrats. In a second state, 47% of the voters are Republicans, and 53% are Democrats. Suppose a simple random sample of 100 voters are surveyed from each state. \n",
    "\n",
    "### What is the probability that the survey will show a greater percentage of Republican voters in the second state than in the first state?"
   ]
  },
  {
   "cell_type": "markdown",
   "metadata": {},
   "source": [
    "The above is a Propotion Problem<br>\n",
    "<br>\n",
    "P1 = Propotion of Republicans in the First state = 0.52<br>\n",
    "P2 = Propotion of Republicans in the Second state = 0.47<br>\n",
    "p1 = Propotion of Democrats in the First state = 0.48<br>\n",
    "p2 = Propotion of Democrats in the Secons state = 0.53<br>\n",
    "<br>\n",
    "Check whether the sample sizes are big. Remeber p1 = 1 - P1 and p2 = 1 - P2<br>\n",
    "n1P1 = 100 * 0.52 = 52<br>\n",
    "n1(1 - P1) = 100 * 0.48 = 48<br>\n",
    "n1P2 = 100 * 0.47 = 47<br>\n",
    "n1(1 - P2) = 100 * 0.53 = 53<br>\n",
    "<br>\n",
    "Clearly the sample sizes are big enough<br>\n",
    "<br>\n",
    "Difference in means = E(p1 - p2) = P1 - P2 = 0.52 - 0.47 = 0.05<br>\n",
    "<br>\n",
    "Standard Deviation Formula is :<br>\n",
    "σd = sqrt{ [P1(1 - P1) / n1 ] + [ P2(1 - P2) / n2 ] } \n"
   ]
  },
  {
   "cell_type": "code",
   "execution_count": 16,
   "metadata": {},
   "outputs": [
    {
     "data": {
      "text/plain": [
       "0.07061869440877536"
      ]
     },
     "execution_count": 16,
     "metadata": {},
     "output_type": "execute_result"
    }
   ],
   "source": [
    "sd = (((0.52 * 0.48)/100) + ((0.47 * 0.53)/100)) ** 0.5; sd"
   ]
  },
  {
   "cell_type": "markdown",
   "metadata": {},
   "source": [
    "Compute the Z score for the same\n",
    "z (p1 - p2) = (x - μ p1 - p2 ) / sd"
   ]
  },
  {
   "cell_type": "code",
   "execution_count": 17,
   "metadata": {},
   "outputs": [
    {
     "data": {
      "text/plain": [
       "-0.7080278164104207"
      ]
     },
     "execution_count": 17,
     "metadata": {},
     "output_type": "execute_result"
    }
   ],
   "source": [
    "z_score = (0 - 0.05) / sd; z_score"
   ]
  },
  {
   "cell_type": "markdown",
   "metadata": {},
   "source": [
    "### The value from the Z-table for -0.071 is 0.24."
   ]
  },
  {
   "cell_type": "markdown",
   "metadata": {},
   "source": [
    "### You take the SAT and score 1100. The mean score for the SAT is 1026 and the standard deviation is 209. How well did you score on the test compared to the average test taker?"
   ]
  },
  {
   "cell_type": "code",
   "execution_count": 18,
   "metadata": {},
   "outputs": [
    {
     "data": {
      "text/plain": [
       "0.35406698564593303"
      ]
     },
     "execution_count": 18,
     "metadata": {},
     "output_type": "execute_result"
    }
   ],
   "source": [
    "Z = (1100 - 1026)/209\n",
    "Z"
   ]
  },
  {
   "cell_type": "markdown",
   "metadata": {},
   "source": [
    "### Your score 0.354 from the mean"
   ]
  },
  {
   "cell_type": "code",
   "execution_count": null,
   "metadata": {},
   "outputs": [],
   "source": []
  },
  {
   "cell_type": "markdown",
   "metadata": {},
   "source": [
    "# 2.4. Problem Statement: STATISTICS 4"
   ]
  },
  {
   "cell_type": "markdown",
   "metadata": {},
   "source": [
    "Is gender independent of education level? A random sample of 395 people were surveyed and each person was asked to report the highest education level they obtained. The data that resulted from the survey is summarized in the following table:<br>\n",
    "<br>High School Bachelors Masters Ph.d. Total<br>\n",
    "Female 60 54 46 41 201<br>\n",
    "Male 40 44 53 57 194<br>\n",
    "Total 100 98 99 98 395<br>\n",
    "<br>\n",
    "Question: Are gender and education level dependent at 5% level of significance? In other words, given the data collected above, is there a relationship between the gender of an individual and the level of education that they have obtained?<br>"
   ]
  },
  {
   "cell_type": "code",
   "execution_count": 29,
   "metadata": {},
   "outputs": [],
   "source": [
    "import numpy as np\n",
    "import scipy.stats as stats"
   ]
  },
  {
   "cell_type": "code",
   "execution_count": 32,
   "metadata": {},
   "outputs": [],
   "source": [
    "female = [60, 54, 46, 41,201]\n",
    "male = [40, 44, 53, 57, 194]"
   ]
  },
  {
   "cell_type": "code",
   "execution_count": 33,
   "metadata": {},
   "outputs": [
    {
     "data": {
      "text/plain": [
       "Power_divergenceResult(statistic=17.941060964377133, pvalue=0.0012672618980429317)"
      ]
     },
     "execution_count": 33,
     "metadata": {},
     "output_type": "execute_result"
    }
   ],
   "source": [
    "# Chi-squared Test\n",
    "stats.chisquare(female,male)"
   ]
  },
  {
   "cell_type": "code",
   "execution_count": 34,
   "metadata": {},
   "outputs": [
    {
     "name": "stdout",
     "output_type": "stream",
     "text": [
      "Since pvalue < 0.05, we reject the null hypothesis that Male and Female categories are independent of each other\n",
      "Therefore, education level depends on the gender at 5% level of significance\n"
     ]
    }
   ],
   "source": [
    "print(\"Since pvalue < 0.05, we reject the null hypothesis that Male and Female categories are independent of each other\")\n",
    "print(\"Therefore, education level depends on the gender at 5% level of significance\")"
   ]
  },
  {
   "cell_type": "markdown",
   "metadata": {},
   "source": [
    "### PROBLEM STATEMENT 2\n",
    "\n",
    "2 Using the following data, perform a oneway analysis of variance using α=.05. Write up the results in APA format.\n",
    "<br><br>\n",
    "[Group1: 51, 45, 33, 45, 67]<br>\n",
    "[Group2: 23, 43, 23, 43, 45]<br>\n",
    "[Group3: 56, 76, 74, 87, 56]<br>"
   ]
  },
  {
   "cell_type": "code",
   "execution_count": 35,
   "metadata": {},
   "outputs": [],
   "source": [
    "import numpy as np\n",
    "import pandas as pd\n",
    "import scipy.stats as stats"
   ]
  },
  {
   "cell_type": "code",
   "execution_count": 36,
   "metadata": {},
   "outputs": [],
   "source": [
    "g1 = [51, 45, 33, 45, 67]\n",
    "g2 = [23, 43, 23, 43, 45]\n",
    "g3 = [56, 76, 74, 87, 56]"
   ]
  },
  {
   "cell_type": "code",
   "execution_count": 37,
   "metadata": {},
   "outputs": [
    {
     "data": {
      "text/html": [
       "<div>\n",
       "<style scoped>\n",
       "    .dataframe tbody tr th:only-of-type {\n",
       "        vertical-align: middle;\n",
       "    }\n",
       "\n",
       "    .dataframe tbody tr th {\n",
       "        vertical-align: top;\n",
       "    }\n",
       "\n",
       "    .dataframe thead th {\n",
       "        text-align: right;\n",
       "    }\n",
       "</style>\n",
       "<table border=\"1\" class=\"dataframe\">\n",
       "  <thead>\n",
       "    <tr style=\"text-align: right;\">\n",
       "      <th></th>\n",
       "      <th>Group1</th>\n",
       "      <th>Group2</th>\n",
       "      <th>Group3</th>\n",
       "    </tr>\n",
       "  </thead>\n",
       "  <tbody>\n",
       "    <tr>\n",
       "      <th>0</th>\n",
       "      <td>51</td>\n",
       "      <td>23</td>\n",
       "      <td>56</td>\n",
       "    </tr>\n",
       "    <tr>\n",
       "      <th>1</th>\n",
       "      <td>45</td>\n",
       "      <td>43</td>\n",
       "      <td>76</td>\n",
       "    </tr>\n",
       "    <tr>\n",
       "      <th>2</th>\n",
       "      <td>33</td>\n",
       "      <td>23</td>\n",
       "      <td>74</td>\n",
       "    </tr>\n",
       "    <tr>\n",
       "      <th>3</th>\n",
       "      <td>45</td>\n",
       "      <td>43</td>\n",
       "      <td>87</td>\n",
       "    </tr>\n",
       "    <tr>\n",
       "      <th>4</th>\n",
       "      <td>67</td>\n",
       "      <td>45</td>\n",
       "      <td>56</td>\n",
       "    </tr>\n",
       "  </tbody>\n",
       "</table>\n",
       "</div>"
      ],
      "text/plain": [
       "   Group1  Group2  Group3\n",
       "0      51      23      56\n",
       "1      45      43      76\n",
       "2      33      23      74\n",
       "3      45      43      87\n",
       "4      67      45      56"
      ]
     },
     "execution_count": 37,
     "metadata": {},
     "output_type": "execute_result"
    }
   ],
   "source": [
    "df = pd.DataFrame({\"Group1\": g1, \"Group2\": g2, \"Group3\": g3})\n",
    "df"
   ]
  },
  {
   "cell_type": "code",
   "execution_count": 38,
   "metadata": {},
   "outputs": [
    {
     "data": {
      "text/html": [
       "<div>\n",
       "<style scoped>\n",
       "    .dataframe tbody tr th:only-of-type {\n",
       "        vertical-align: middle;\n",
       "    }\n",
       "\n",
       "    .dataframe tbody tr th {\n",
       "        vertical-align: top;\n",
       "    }\n",
       "\n",
       "    .dataframe thead th {\n",
       "        text-align: right;\n",
       "    }\n",
       "</style>\n",
       "<table border=\"1\" class=\"dataframe\">\n",
       "  <thead>\n",
       "    <tr style=\"text-align: right;\">\n",
       "      <th></th>\n",
       "      <th>Group1</th>\n",
       "      <th>Group2</th>\n",
       "      <th>Group3</th>\n",
       "    </tr>\n",
       "  </thead>\n",
       "  <tbody>\n",
       "    <tr>\n",
       "      <th>count</th>\n",
       "      <td>5.000000</td>\n",
       "      <td>5.000000</td>\n",
       "      <td>5.000000</td>\n",
       "    </tr>\n",
       "    <tr>\n",
       "      <th>mean</th>\n",
       "      <td>48.200000</td>\n",
       "      <td>35.400000</td>\n",
       "      <td>69.800000</td>\n",
       "    </tr>\n",
       "    <tr>\n",
       "      <th>std</th>\n",
       "      <td>12.377399</td>\n",
       "      <td>11.349009</td>\n",
       "      <td>13.535139</td>\n",
       "    </tr>\n",
       "    <tr>\n",
       "      <th>min</th>\n",
       "      <td>33.000000</td>\n",
       "      <td>23.000000</td>\n",
       "      <td>56.000000</td>\n",
       "    </tr>\n",
       "    <tr>\n",
       "      <th>25%</th>\n",
       "      <td>45.000000</td>\n",
       "      <td>23.000000</td>\n",
       "      <td>56.000000</td>\n",
       "    </tr>\n",
       "    <tr>\n",
       "      <th>50%</th>\n",
       "      <td>45.000000</td>\n",
       "      <td>43.000000</td>\n",
       "      <td>74.000000</td>\n",
       "    </tr>\n",
       "    <tr>\n",
       "      <th>75%</th>\n",
       "      <td>51.000000</td>\n",
       "      <td>43.000000</td>\n",
       "      <td>76.000000</td>\n",
       "    </tr>\n",
       "    <tr>\n",
       "      <th>max</th>\n",
       "      <td>67.000000</td>\n",
       "      <td>45.000000</td>\n",
       "      <td>87.000000</td>\n",
       "    </tr>\n",
       "  </tbody>\n",
       "</table>\n",
       "</div>"
      ],
      "text/plain": [
       "          Group1     Group2     Group3\n",
       "count   5.000000   5.000000   5.000000\n",
       "mean   48.200000  35.400000  69.800000\n",
       "std    12.377399  11.349009  13.535139\n",
       "min    33.000000  23.000000  56.000000\n",
       "25%    45.000000  23.000000  56.000000\n",
       "50%    45.000000  43.000000  74.000000\n",
       "75%    51.000000  43.000000  76.000000\n",
       "max    67.000000  45.000000  87.000000"
      ]
     },
     "execution_count": 38,
     "metadata": {},
     "output_type": "execute_result"
    }
   ],
   "source": [
    "df.describe()"
   ]
  },
  {
   "cell_type": "code",
   "execution_count": 40,
   "metadata": {},
   "outputs": [],
   "source": [
    "# The ANOVA test has important assumptions that must be satisfied in order for the associated p-value to be valid.\n",
    "\n",
    "#     The samples are independent.\n",
    "#     Each sample is from a normally distributed population.\n",
    "#     The population standard deviations of the groups are all equal. This property is known as homoscedasticity.\n",
    "\n",
    "# Since their standard deviations are close to each other. We can use One-Way ANOVA test"
   ]
  },
  {
   "cell_type": "code",
   "execution_count": 41,
   "metadata": {},
   "outputs": [
    {
     "data": {
      "text/plain": [
       "F_onewayResult(statistic=9.747205503009463, pvalue=0.0030597541434430556)"
      ]
     },
     "execution_count": 41,
     "metadata": {},
     "output_type": "execute_result"
    }
   ],
   "source": [
    "# One-Way ANOVA Test\n",
    "stats.f_oneway(g1, g2, g3)"
   ]
  },
  {
   "cell_type": "code",
   "execution_count": 42,
   "metadata": {},
   "outputs": [
    {
     "name": "stdout",
     "output_type": "stream",
     "text": [
      "Since pvalue < 0.05 (α=.05), The differences between the means are statistically significant.\n",
      "Therefore, we reject the null hypothesis that they may be equal\n"
     ]
    }
   ],
   "source": [
    "print(\"\"\"Since pvalue < 0.05 (α=.05), The differences between the means are statistically significant.\n",
    "Therefore, we reject the null hypothesis that they may be equal\"\"\")"
   ]
  },
  {
   "cell_type": "code",
   "execution_count": null,
   "metadata": {},
   "outputs": [],
   "source": []
  },
  {
   "cell_type": "markdown",
   "metadata": {},
   "source": [
    "### PROBLEM STATEMENT 3\n",
    "\n",
    "Calculate F Test for given 10, 20, 30, 40, 50 and 5,10,15, 20, 25."
   ]
  },
  {
   "cell_type": "code",
   "execution_count": 43,
   "metadata": {},
   "outputs": [],
   "source": [
    "# Calculate F Test for given 10, 20, 30, 40, 50 and 5,10,15, 20, 25.\n",
    "import numpy as np\n",
    "import pandas as pd\n",
    "import scipy.stats as stats"
   ]
  },
  {
   "cell_type": "code",
   "execution_count": 44,
   "metadata": {},
   "outputs": [],
   "source": [
    "g1 = [10, 20, 30, 40, 50 ]\n",
    "g2 = [5, 10, 15, 20, 25 ]"
   ]
  },
  {
   "cell_type": "code",
   "execution_count": 45,
   "metadata": {},
   "outputs": [],
   "source": [
    "s1 = pd.Series(g1)\n",
    "s2 = pd.Series(g2)"
   ]
  },
  {
   "cell_type": "code",
   "execution_count": 46,
   "metadata": {},
   "outputs": [
    {
     "data": {
      "text/plain": [
       "4.0"
      ]
     },
     "execution_count": 46,
     "metadata": {},
     "output_type": "execute_result"
    }
   ],
   "source": [
    "# F Test \n",
    "f = s1.var()/s2.var()\n",
    "f"
   ]
  },
  {
   "cell_type": "code",
   "execution_count": null,
   "metadata": {},
   "outputs": [],
   "source": []
  }
 ],
 "metadata": {
  "kernelspec": {
   "display_name": "Python 3",
   "language": "python",
   "name": "python3"
  },
  "language_info": {
   "codemirror_mode": {
    "name": "ipython",
    "version": 3
   },
   "file_extension": ".py",
   "mimetype": "text/x-python",
   "name": "python",
   "nbconvert_exporter": "python",
   "pygments_lexer": "ipython3",
   "version": "3.7.1"
  }
 },
 "nbformat": 4,
 "nbformat_minor": 2
}
